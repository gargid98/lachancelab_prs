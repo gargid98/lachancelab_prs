{
 "cells": [
  {
   "cell_type": "code",
   "execution_count": 1,
   "id": "a81dd7e0",
   "metadata": {},
   "outputs": [],
   "source": [
    "#This is prs script where we can call the CI script in a loop getting a list of percentiles \n",
    "#This is with replacement, and with masking out alleles that are not found in the individual\n"
   ]
  },
  {
   "cell_type": "code",
   "execution_count": 13,
   "id": "d4a29d49",
   "metadata": {},
   "outputs": [],
   "source": [
    "#reading in risk allele file\n",
    "riskallelefile = open(\"PGS000004.txt\", \"r\")\n",
    "riskallele=[]\n",
    "for line in riskallelefile:\n",
    "    if line.startswith(\"#\"):\n",
    "        continue\n",
    "    if line.startswith(\"chr\"):\n",
    "        continue\n",
    "    else:\n",
    "        row = line.strip().split(\"\\t\")\n",
    "        riskallele.append(row)"
   ]
  },
  {
   "cell_type": "code",
   "execution_count": 14,
   "id": "fd0e0017",
   "metadata": {},
   "outputs": [],
   "source": [
    "#reading in rsid file pulled from kaviar\n",
    "rsidfile = open(\"mavaddatrsids.txt\", \"r\")\n",
    "rsid=[]\n",
    "for line in rsidfile:\n",
    "    if line.startswith(\"#\"):\n",
    "        continue\n",
    "    if line.startswith(\"c\"):\n",
    "        continue\n",
    "    else:\n",
    "        row = line.strip().split(\"\\t\")\n",
    "        rsid.append(row)"
   ]
  },
  {
   "cell_type": "code",
   "execution_count": 15,
   "id": "889f8d5f",
   "metadata": {},
   "outputs": [
    {
     "name": "stdout",
     "output_type": "stream",
     "text": [
      "creating rsid list\n"
     ]
    }
   ],
   "source": [
    "print(\"creating rsid list\")\n",
    "\n",
    "#joining kaviar snps files with risk allele file, replacing chrom pos with rsid\n",
    "rsidlist_all=[]       \n",
    "for i in riskallele: \n",
    "    for j in rsid:\n",
    "        if [i[0], i[1]] ==  [j[0], j[1]]:\n",
    "            if [i[3], i[2]] == [j[3], j[4]]:\n",
    "                rsidlist_all.append([j[2], i[2], i[3], i[4]])\n",
    "                \n",
    "#removing rsid duplicates\n",
    "rsidlist=[]       \n",
    "rsids=[]    \n",
    "for i in rsidlist_all:   \n",
    "    if i[0] in rsids:\n",
    "        continue\n",
    "    else:\n",
    "        rsidlist.append(i)\n",
    "    rsids.append(i[0])\n"
   ]
  },
  {
   "cell_type": "code",
   "execution_count": 17,
   "id": "07e1df3a",
   "metadata": {},
   "outputs": [
    {
     "name": "stdout",
     "output_type": "stream",
     "text": [
      "number of risk alleles found in file:  61\n"
     ]
    }
   ],
   "source": [
    "#reading in the vcf file \n",
    "file1open = open(\"new225.vcf\", \"r\")\n",
    "vcffile=[]\n",
    "individuals=[]\n",
    "for line in file1open:\n",
    "    if line.startswith(\"##\"):\n",
    "        continue\n",
    "    if line.startswith(\"#CHR\"): \n",
    "        inds = line.strip().split(\"\\t\")\n",
    "        individuals.append(inds)\n",
    "        vcffile.append(inds)\n",
    "    row = line.strip().split(\"\\t\")\n",
    "    if row[2] in rsids:\n",
    "        if row[2] not in vcffile:\n",
    "            vcffile.append(row)\n",
    "print(\"number of risk alleles found in file: \", len(vcffile))"
   ]
  },
  {
   "cell_type": "code",
   "execution_count": 18,
   "id": "747cd625",
   "metadata": {},
   "outputs": [
    {
     "name": "stdout",
     "output_type": "stream",
     "text": [
      "number of unique rsids:  61\n"
     ]
    }
   ],
   "source": [
    "vcf=[]\n",
    "unique=[]\n",
    "for i in vcffile:\n",
    "    if i[2] in unique:\n",
    "        continue\n",
    "    else:\n",
    "        vcf.append(i)\n",
    "        unique.append(i[2])\n",
    "print(\"number of unique rsids: \", len(vcf))\n"
   ]
  },
  {
   "cell_type": "code",
   "execution_count": 19,
   "id": "a8674ff8",
   "metadata": {},
   "outputs": [],
   "source": [
    "#find number of snps available in sample\n",
    "\n",
    "index = int(vcf[0].index(\"Falkenstein\"))\n",
    "individual_snps = []\n",
    "for i in range(1, len(vcf)):\n",
    "    if vcf[i][index] == \"./.\":\n",
    "        continue\n",
    "    else:\n",
    "        individual_snps.append(vcf[i][2])\n",
    "\n",
    "ind_snps_vcf = []\n",
    "for i in vcf:\n",
    "    if i[2] in individual_snps:\n",
    "        ind_snps_vcf.append(i)\n"
   ]
  },
  {
   "cell_type": "code",
   "execution_count": 20,
   "id": "f108506f",
   "metadata": {},
   "outputs": [],
   "source": [
    "#prs function\n",
    "def calculate_prs(vcf_file):\n",
    "    scores=[]\n",
    "    null=0\n",
    "    genotype=0\n",
    "    samplenumber=0\n",
    "    for j in range(9, len(inds)):\n",
    "            sample=[]\n",
    "            totalscore=0\n",
    "            #iterate through risk alleles\n",
    "            for i in range(1, len(vcf_file)):\n",
    "                #sample contains rsid, reference allele, alternate allele, and genotype\n",
    "                sample.append([vcf_file[i][2], vcf_file[i][3], vcf_file[i][4], vcf_file[i][j]])\n",
    "            for i in sample:\n",
    "                for x in rsidlist:\n",
    "                    if i[0] == x[0]:\n",
    "                        #checking if ref allele and alt allele match\n",
    "                        if i[1]==x[2] and i[2]==x[1]:\n",
    "                            if i[3]!=\"./.\": \n",
    "                                if i[3] == \"0/0\": \n",
    "                                    genotype = 0\n",
    "                                if i[3] == \"0/1\" or \"1/0\": \n",
    "                                    genotype = 1 \n",
    "                                if i[3] == \"1/1\": \n",
    "                                    genotype = 2 \n",
    "                                score=float(x[3])* float(genotype)\n",
    "                                totalscore=score + totalscore\n",
    "                            else:\n",
    "                                null+=1\n",
    "                        #if ref allele and alternate allele are reversed\n",
    "                        elif i[1]==x[1] and i[2]==x[2]:\n",
    "                            if i[3]!=\"./.\": \n",
    "                                if i[3] == \"0/0\": \n",
    "                                    genotype = 2\n",
    "                                if i[3] == \"0/1\" or \"1/0\": \n",
    "                                    genotype = 1 \n",
    "                                if i[3] == \"1/1\": \n",
    "                                    genotype = 0 \n",
    "                                score=float(x[3])* float(genotype)\n",
    "                                totalscore=score + totalscore\n",
    "                            else:\n",
    "                                null+=1\n",
    "                        else:\n",
    "                            print(\"null\")\n",
    "            scores.append([individuals[0][j], totalscore])\n",
    "    return scores"
   ]
  },
  {
   "cell_type": "code",
   "execution_count": 21,
   "id": "17b88f43",
   "metadata": {},
   "outputs": [
    {
     "name": "stdout",
     "output_type": "stream",
     "text": [
      "0.8533333333333334\n",
      "0.8044444444444444\n",
      "0.9533333333333334\n",
      "0.5422222222222223\n",
      "0.38222222222222224\n",
      "0.9022222222222223\n",
      "0.8977777777777778\n",
      "0.9777777777777777\n",
      "0.6222222222222222\n",
      "0.44\n",
      "0.6044444444444445\n",
      "0.9955555555555555\n",
      "0.5822222222222222\n",
      "0.8177777777777778\n",
      "0.9466666666666667\n",
      "0.7377777777777778\n",
      "0.49333333333333335\n",
      "0.4711111111111111\n",
      "1.0\n",
      "0.8666666666666667\n"
     ]
    }
   ],
   "source": [
    "#run prs function on different bootstrapped subsamples and find percentile rank of an individual for each subsample\n",
    "import pandas as pd \n",
    "from random import choices\n",
    "values = []\n",
    "\n",
    "for i in range(20): \n",
    "    vcf_1 = choices(ind_snps_vcf, k=len(ind_snps_vcf))\n",
    "    scorelist = calculate_prs(vcf_1)\n",
    "    df = pd.DataFrame(scorelist, columns =['Name', 'Score'])\n",
    "    df['Percentile Rank'] = df.Score.rank(pct = True)\n",
    "    value = list(df['Percentile Rank'].loc[df['Name'] == 'Falkenstein'])\n",
    "    values.append(value[0])\n",
    "    print(value[0])"
   ]
  },
  {
   "cell_type": "code",
   "execution_count": 22,
   "id": "d429b489",
   "metadata": {},
   "outputs": [
    {
     "data": {
      "text/plain": [
       "(0.6476268066166563, 0.8414843044944552)"
      ]
     },
     "execution_count": 22,
     "metadata": {},
     "output_type": "execute_result"
    }
   ],
   "source": [
    "#create 95% confidence interval for list of percentile ranks\n",
    "import numpy as np\n",
    "import scipy.stats as st\n",
    "st.t.interval(alpha=0.95, df=len(values)-1, loc=np.mean(values), scale=st.sem(values)) \n",
    "\n"
   ]
  }
 ],
 "metadata": {
  "kernelspec": {
   "display_name": "Python 3",
   "language": "python",
   "name": "python3"
  },
  "language_info": {
   "codemirror_mode": {
    "name": "ipython",
    "version": 3
   },
   "file_extension": ".py",
   "mimetype": "text/x-python",
   "name": "python",
   "nbconvert_exporter": "python",
   "pygments_lexer": "ipython3",
   "version": "3.8.8"
  }
 },
 "nbformat": 4,
 "nbformat_minor": 5
}
